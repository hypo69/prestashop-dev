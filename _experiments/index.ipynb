{
 "cells": [
  {
   "cell_type": "markdown",
   "id": "5fa1d250",
   "metadata": {},
   "source": [
    "# aliexpress\n",
    "\n",
    "[Тесты и исследования сценариев](../../suppliers/aliexpress/_tests/notebook_test_api.ipynb)\n",
    "\n",
    "[Исследования полей товара](../../suppliers/aliexpress/_tests/notebook_research_fields.ipynb)\n",
    "\n",
    "[тест ручной проврки родного SDK Aliexpress](../../suppliers/aliexpress/_tests/notebook_test_api.ipynb)"
   ]
  },
  {
   "cell_type": "markdown",
   "id": "c5a3b4ab",
   "metadata": {},
   "source": [
    "# hb"
   ]
  },
  {
   "cell_type": "markdown",
   "id": "7ee793da",
   "metadata": {},
   "source": [
    "# prestashop\n",
    "[Тест категорий](../../categories/_tests/notebook_test_category.ipynb)\n"
   ]
  },
  {
   "cell_type": "code",
   "execution_count": null,
   "id": "bfae483d",
   "metadata": {},
   "outputs": [],
   "source": []
  }
 ],
 "metadata": {
  "kernelspec": {
   "display_name": "Python 3 (ipykernel)",
   "language": "python",
   "name": "python3"
  },
  "language_info": {
   "codemirror_mode": {
    "name": "ipython",
    "version": 3
   },
   "file_extension": ".py",
   "mimetype": "text/x-python",
   "name": "python",
   "nbconvert_exporter": "python",
   "pygments_lexer": "ipython3",
   "version": "3.11.6"
  }
 },
 "nbformat": 4,
 "nbformat_minor": 5
}
