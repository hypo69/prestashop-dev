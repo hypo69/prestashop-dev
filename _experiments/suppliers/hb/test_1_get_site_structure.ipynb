{
 "cells": [
  {
   "cell_type": "code",
   "execution_count": 1,
   "id": "fde6512d-fcda-498e-8eff-d31e46aa2419",
   "metadata": {},
   "outputs": [
    {
     "data": {
      "application/vnd.jupyter.widget-view+json": {
       "model_id": "af234bafd840479d8c660b0769e97e63",
       "version_major": 2,
       "version_minor": 0
      },
      "text/plain": [
       "Text(value='', description='URL:', layout=Layout(width='50%'), placeholder='Введите URL')"
      ]
     },
     "metadata": {},
     "output_type": "display_data"
    },
    {
     "data": {
      "application/vnd.jupyter.widget-view+json": {
       "model_id": "0c7db1910b874175ac03604880d86fc0",
       "version_major": 2,
       "version_minor": 0
      },
      "text/plain": [
       "IntText(value=2, description='Глубина рекурсии:', layout=Layout(width='50%'))"
      ]
     },
     "metadata": {},
     "output_type": "display_data"
    },
    {
     "data": {
      "application/vnd.jupyter.widget-view+json": {
       "model_id": "0d427226968a45c38dc6a08da5746ef2",
       "version_major": 2,
       "version_minor": 0
      },
      "text/plain": [
       "Button(description='Начать сбор и сохранение результатов', style=ButtonStyle())"
      ]
     },
     "metadata": {},
     "output_type": "display_data"
    }
   ],
   "source": [
    "import requests\n",
    "import re\n",
    "import json\n",
    "from lxml import etree\n",
    "import ipywidgets as widgets\n",
    "from IPython.display import display, clear_output\n",
    "\n",
    "def get_unique_links(url, visited_links):\n",
    "    # оставим код без изменений\n",
    "    ...\n",
    "\n",
    "def recursive_crawl(url, depth, visited_links, starting_url):\n",
    "    # оставим код без изменений\n",
    "    ...\n",
    "    \n",
    "def save_json_file(data, file_name):\n",
    "    # оставим код без изменений\n",
    "    ...\n",
    "    \n",
    "def save_top_level_nodes(data, starting_url, depth):\n",
    "    # оставим код без изменений\n",
    "    ...\n",
    "    \n",
    "def crawl_and_display_results(btn):\n",
    "    clear_output()\n",
    "    starting_url = url_input.value\n",
    "    depth = int(depth_input.value)\n",
    "\n",
    "    # Список для отслеживания просмотренных ссылок\n",
    "    visited_links = set()\n",
    "\n",
    "    # Запускаем сбор ссылок рекурсивно\n",
    "    top_level_data = recursive_crawl(starting_url, depth, visited_links, starting_url)\n",
    "\n",
    "    # Сохраняем каждый узел верхнего уровня в отдельном файле\n",
    "    save_top_level_nodes(top_level_data, starting_url, depth)\n",
    "\n",
    "    print(\"Результаты успешно сохранены в отдельных JSON-файлах.\")\n",
    "\n",
    "# Виджеты для ввода URL и глубины рекурсии\n",
    "url_input = widgets.Text(\n",
    "    placeholder='Введите URL',\n",
    "    description='URL:',\n",
    "    layout=widgets.Layout(width='50%')\n",
    ")\n",
    "depth_input = widgets.IntText(\n",
    "    value=2,\n",
    "    description='Глубина рекурсии:',\n",
    "    layout=widgets.Layout(width='50%')\n",
    ")\n",
    "\n",
    "# Кнопка для запуска процесса сбора и отображения результатов\n",
    "crawl_button = widgets.Button(description=\"Начать сбор и сохранение результатов\")\n",
    "crawl_button.on_click(crawl_and_display_results)\n",
    "\n",
    "# Отображаем виджеты и кнопку\n",
    "display(url_input, depth_input, crawl_button)\n"
   ]
  },
  {
   "cell_type": "code",
   "execution_count": null,
   "id": "1a1ad9a1-acde-4f8f-842d-266a8cc4159b",
   "metadata": {},
   "outputs": [],
   "source": []
  }
 ],
 "metadata": {
  "kernelspec": {
   "display_name": "Python 3 (ipykernel)",
   "language": "python",
   "name": "python3"
  },
  "language_info": {
   "codemirror_mode": {
    "name": "ipython",
    "version": 3
   },
   "file_extension": ".py",
   "mimetype": "text/x-python",
   "name": "python",
   "nbconvert_exporter": "python",
   "pygments_lexer": "ipython3",
   "version": "3.11.3"
  }
 },
 "nbformat": 4,
 "nbformat_minor": 5
}
