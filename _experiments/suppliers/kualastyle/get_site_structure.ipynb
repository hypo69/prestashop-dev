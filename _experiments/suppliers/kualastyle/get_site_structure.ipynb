{
 "cells": [
  {
   "cell_type": "code",
   "execution_count": 1,
   "id": "fde6512d-fcda-498e-8eff-d31e46aa2419",
   "metadata": {},
   "outputs": [
    {
     "name": "stdout",
     "output_type": "stream",
     "text": [
      "{}\n"
     ]
    }
   ],
   "source": [
    "import requests\n",
    "from bs4 import BeautifulSoup\n",
    "import re\n",
    "\n",
    "def get_links_with_text(url):\n",
    "    # Отправляем GET-запрос к указанному URL и получаем содержимое страницы\n",
    "    response = requests.get(url)\n",
    "    \n",
    "    # Проверяем успешность запроса\n",
    "    if response.status_code != 200:\n",
    "        return {}\n",
    "    \n",
    "    # Создаем объект BeautifulSoup для анализа содержимого страницы\n",
    "    soup = BeautifulSoup(response.text, 'html.parser')\n",
    "    \n",
    "    # Находим все ссылки на странице\n",
    "    links = soup.find_all('a', href=True)\n",
    "    \n",
    "    # Создаем словарь, где ключ - это ссылка, а значение - текст ссылки\n",
    "    links_with_text = {link['href']: link.text.strip() for link in links if re.match(r'^https://kualastyle\\.com/collections', link['href'])}\n",
    "    \n",
    "    return links_with_text\n",
    "\n",
    "def recursive_crawl(url, depth):\n",
    "    if depth == 0:\n",
    "        return {}\n",
    "    \n",
    "    links_with_text = get_links_with_text(url)\n",
    "    all_links_with_hierarchy = {}\n",
    "    for link, text in links_with_text.items():\n",
    "        # Рекурсивно вызываем функцию для каждой найденной ссылки на указанной глубине\n",
    "        child_links = recursive_crawl(link, depth - 1)\n",
    "        all_links_with_hierarchy[link] = {\n",
    "            \"text\": text,\n",
    "            \"children\": child_links\n",
    "        }\n",
    "    \n",
    "    return all_links_with_hierarchy\n",
    "\n",
    "def get_site_structure():\n",
    "    # Укажите URL, с которого начнется сбор ссылок\n",
    "    starting_url = 'https://hbdeadsea.co.il'\n",
    "    \n",
    "    # Укажите глубину рекурсии (сколько уровней ссылок будет рекурсивно собрано)\n",
    "    depth = 5\n",
    "    \n",
    "    # Запускаем сбор ссылок рекурсивно\n",
    "    all_links_with_hierarchy = recursive_crawl(starting_url, depth)\n",
    "    \n",
    "    # Выводим результаты в виде словаря с иерархией\n",
    "    import json\n",
    "    print(json.dumps(all_links_with_hierarchy, indent=5, ensure_ascii=False))\n",
    "\n",
    "\n",
    "get_site_structure()"
   ]
  },
  {
   "cell_type": "code",
   "execution_count": null,
   "id": "1a1ad9a1-acde-4f8f-842d-266a8cc4159b",
   "metadata": {},
   "outputs": [],
   "source": []
  }
 ],
 "metadata": {
  "kernelspec": {
   "display_name": "Python 3 (ipykernel)",
   "language": "python",
   "name": "python3"
  },
  "language_info": {
   "codemirror_mode": {
    "name": "ipython",
    "version": 3
   },
   "file_extension": ".py",
   "mimetype": "text/x-python",
   "name": "python",
   "nbconvert_exporter": "python",
   "pygments_lexer": "ipython3",
   "version": "3.11.3"
  }
 },
 "nbformat": 4,
 "nbformat_minor": 5
}
