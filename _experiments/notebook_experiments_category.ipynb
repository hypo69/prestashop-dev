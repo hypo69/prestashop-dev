{
 "cells": [
  {
   "cell_type": "code",
   "execution_count": 1,
   "id": "9606df3d-48c1-4019-b3c8-086e7a1a8ea1",
   "metadata": {},
   "outputs": [
    {
     "ename": "ModuleNotFoundError",
     "evalue": "No module named 'header'",
     "output_type": "error",
     "traceback": [
      "\u001b[1;31m---------------------------------------------------------------------------\u001b[0m",
      "\u001b[1;31mModuleNotFoundError\u001b[0m                       Traceback (most recent call last)",
      "Cell \u001b[1;32mIn[1], line 3\u001b[0m\n\u001b[0;32m      1\u001b[0m \u001b[38;5;66;03m# -*- coding: utf-8 -*-\u001b[39;00m\n\u001b[0;32m      2\u001b[0m \u001b[38;5;66;03m#! /usr/share/projects/hypotez/venv/scripts python\u001b[39;00m\n\u001b[1;32m----> 3\u001b[0m \u001b[38;5;28;01mimport\u001b[39;00m \u001b[38;5;21;01mheader\u001b[39;00m\n\u001b[0;32m      4\u001b[0m \u001b[38;5;28;01mfrom\u001b[39;00m \u001b[38;5;21;01mheader\u001b[39;00m \u001b[38;5;28;01mimport\u001b[39;00m  pprint, gs\n\u001b[0;32m      5\u001b[0m \u001b[38;5;28;01mfrom\u001b[39;00m \u001b[38;5;21;01msrc\u001b[39;00m\u001b[38;5;21;01m.\u001b[39;00m\u001b[38;5;21;01mcategories\u001b[39;00m \u001b[38;5;28;01mimport\u001b[39;00m  Category\n",
      "\u001b[1;31mModuleNotFoundError\u001b[0m: No module named 'header'"
     ]
    }
   ],
   "source": [
    "# -*- coding: utf-8 -*-\n",
    "#! /usr/share/projects/hypotez/venv/scripts python\n",
    "import header\n",
    "from header import  pprint, gs\n",
    "from src.category import  Category\n"
   ]
  },
  {
   "cell_type": "markdown",
   "id": "72fb5979",
   "metadata": {},
   "source": [
    "## Соглашения\n",
    "c = Category()"
   ]
  },
  {
   "cell_type": "code",
   "execution_count": null,
   "id": "51551fd4",
   "metadata": {},
   "outputs": [],
   "source": [
    "c = Category()"
   ]
  },
  {
   "cell_type": "code",
   "execution_count": null,
   "id": "b9336a23",
   "metadata": {},
   "outputs": [],
   "source": [
    "pprint(c.categories_tree_from_template_files)"
   ]
  },
  {
   "cell_type": "code",
   "execution_count": null,
   "id": "44b9f32d",
   "metadata": {},
   "outputs": [],
   "source": [
    "print(c.get_parent_categories_list(11037))"
   ]
  },
  {
   "cell_type": "code",
   "execution_count": null,
   "id": "cfce7186-04d9-48a9-b1ae-63ff7e194487",
   "metadata": {
    "tags": []
   },
   "outputs": [],
   "source": [
    "list_categories_prestashop = c.get_parent_categories_list_prestashop(11036)"
   ]
  },
  {
   "cell_type": "code",
   "execution_count": null,
   "id": "1e4971a0-d952-407c-96b2-46c6e4686050",
   "metadata": {
    "tags": []
   },
   "outputs": [],
   "source": [
    "categories_from_template_files: dict = c.get_list_categories_from_template_files()"
   ]
  },
  {
   "cell_type": "code",
   "execution_count": null,
   "id": "73c56785-2bc4-498d-b0f4-1bc582510e48",
   "metadata": {
    "tags": []
   },
   "outputs": [],
   "source": [
    "jprint(categories)"
   ]
  },
  {
   "cell_type": "code",
   "execution_count": null,
   "id": "49893086-564d-4f3f-a6a3-055bbb76a8e1",
   "metadata": {},
   "outputs": [],
   "source": [
    "# перечитываю глобальные установки. \n",
    "# обычно удобно после измения json\n",
    "#gs._settings()"
   ]
  },
  {
   "cell_type": "code",
   "execution_count": null,
   "id": "09157e83-f309-4537-a23d-71476737ad42",
   "metadata": {},
   "outputs": [],
   "source": [
    "from dict_scenarios import scenario\n",
    "\n",
    "for key in categories_from_template.keys():\n",
    "    print(key)"
   ]
  },
  {
   "cell_type": "code",
   "execution_count": null,
   "id": "b6fa3618-a4b8-4f5b-9871-a46e9180934f",
   "metadata": {},
   "outputs": [],
   "source": [
    "jprint(categories_from_template['11206 ART DEKO'])"
   ]
  },
  {
   "cell_type": "code",
   "execution_count": null,
   "id": "f9e48dc3-b607-495e-a4e5-fff3212b6501",
   "metadata": {},
   "outputs": [],
   "source": [
    "jprint(categories_from_template['11036 SPACE HOME AND INTERIOR'])"
   ]
  },
  {
   "cell_type": "code",
   "execution_count": null,
   "id": "e95c58ab-7cb1-4ac3-8800-a9ab0beb1464",
   "metadata": {},
   "outputs": [],
   "source": []
  },
  {
   "cell_type": "code",
   "execution_count": null,
   "id": "1b711209-c0b5-45dc-b292-264c45261ede",
   "metadata": {},
   "outputs": [],
   "source": [
    "categories = get_list_categories_from_scenario_category('11209 MURANO GLASS',categories_from_template)"
   ]
  },
  {
   "cell_type": "code",
   "execution_count": null,
   "id": "0025d31b-8477-439c-95ac-f3652c00a618",
   "metadata": {},
   "outputs": [],
   "source": [
    "print(categories)"
   ]
  },
  {
   "cell_type": "code",
   "execution_count": null,
   "id": "a1d0ab26-2daa-49bb-8351-db5bead9ef5e",
   "metadata": {},
   "outputs": [],
   "source": []
  }
 ],
 "metadata": {
  "kernelspec": {
   "display_name": "Python 3 (ipykernel)",
   "language": "python",
   "name": "python3"
  },
  "language_info": {
   "codemirror_mode": {
    "name": "ipython",
    "version": 3
   },
   "file_extension": ".py",
   "mimetype": "text/x-python",
   "name": "python",
   "nbconvert_exporter": "python",
   "pygments_lexer": "ipython3",
   "version": "3.11.8"
  }
 },
 "nbformat": 4,
 "nbformat_minor": 5
}
